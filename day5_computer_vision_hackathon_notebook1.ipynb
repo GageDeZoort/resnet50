{
  "nbformat": 4,
  "nbformat_minor": 0,
  "metadata": {
    "colab": {
      "provenance": [],
      "authorship_tag": "ABX9TyNlGWD14eHQmpF2YurxENBB",
      "include_colab_link": true
    },
    "kernelspec": {
      "name": "python3",
      "display_name": "Python 3"
    },
    "language_info": {
      "name": "python"
    },
    "accelerator": "GPU",
    "gpuClass": "standard"
  },
  "cells": [
    {
      "cell_type": "markdown",
      "metadata": {
        "id": "view-in-github",
        "colab_type": "text"
      },
      "source": [
        "<a href=\"https://colab.research.google.com/github/jdh4/resnet50/blob/master/day5_computer_vision_hackathon_notebook1.ipynb\" target=\"_parent\"><img src=\"https://colab.research.google.com/assets/colab-badge.svg\" alt=\"Open In Colab\"/></a>"
      ]
    },
    {
      "cell_type": "markdown",
      "source": [
        "#Introduction to Machine Learning  \n",
        "**Computer Vision Hackathon  \n",
        "Wintersession  \n",
        "Tuesday, January 24, 2023**"
      ],
      "metadata": {
        "id": "aga1pGnHqFDc"
      }
    },
    {
      "cell_type": "markdown",
      "source": [
        "This notebook trains a simple CNN on the MNIST dataset. The code comes from a [PyTorch example on GitHub](https://github.com/pytorch/examples/blob/master/mnist/main.py)."
      ],
      "metadata": {
        "id": "UNycfWo7M0TV"
      }
    },
    {
      "cell_type": "markdown",
      "source": [
        "# About Your Colab Session"
      ],
      "metadata": {
        "id": "2zeUMxrssifc"
      }
    },
    {
      "cell_type": "markdown",
      "source": [
        "Learn about the CPU-cores for your session:"
      ],
      "metadata": {
        "id": "DuQEJ5K4T6mr"
      }
    },
    {
      "cell_type": "code",
      "source": [
        "cat /proc/cpuinfo"
      ],
      "metadata": {
        "colab": {
          "base_uri": "https://localhost:8080/"
        },
        "id": "kmhl7u9GTJdM",
        "outputId": "1632fc32-cc58-469f-e114-e5e4bddc7e9d"
      },
      "execution_count": 14,
      "outputs": [
        {
          "output_type": "stream",
          "name": "stdout",
          "text": [
            "processor\t: 0\n",
            "vendor_id\t: GenuineIntel\n",
            "cpu family\t: 6\n",
            "model\t\t: 85\n",
            "model name\t: Intel(R) Xeon(R) CPU @ 2.00GHz\n",
            "stepping\t: 3\n",
            "microcode\t: 0xffffffff\n",
            "cpu MHz\t\t: 2000.170\n",
            "cache size\t: 39424 KB\n",
            "physical id\t: 0\n",
            "siblings\t: 2\n",
            "core id\t\t: 0\n",
            "cpu cores\t: 1\n",
            "apicid\t\t: 0\n",
            "initial apicid\t: 0\n",
            "fpu\t\t: yes\n",
            "fpu_exception\t: yes\n",
            "cpuid level\t: 13\n",
            "wp\t\t: yes\n",
            "flags\t\t: fpu vme de pse tsc msr pae mce cx8 apic sep mtrr pge mca cmov pat pse36 clflush mmx fxsr sse sse2 ss ht syscall nx pdpe1gb rdtscp lm constant_tsc rep_good nopl xtopology nonstop_tsc cpuid tsc_known_freq pni pclmulqdq ssse3 fma cx16 pcid sse4_1 sse4_2 x2apic movbe popcnt aes xsave avx f16c rdrand hypervisor lahf_lm abm 3dnowprefetch invpcid_single ssbd ibrs ibpb stibp fsgsbase tsc_adjust bmi1 hle avx2 smep bmi2 erms invpcid rtm mpx avx512f avx512dq rdseed adx smap clflushopt clwb avx512cd avx512bw avx512vl xsaveopt xsavec xgetbv1 xsaves arat md_clear arch_capabilities\n",
            "bugs\t\t: cpu_meltdown spectre_v1 spectre_v2 spec_store_bypass l1tf mds swapgs taa mmio_stale_data retbleed\n",
            "bogomips\t: 4000.34\n",
            "clflush size\t: 64\n",
            "cache_alignment\t: 64\n",
            "address sizes\t: 46 bits physical, 48 bits virtual\n",
            "power management:\n",
            "\n",
            "processor\t: 1\n",
            "vendor_id\t: GenuineIntel\n",
            "cpu family\t: 6\n",
            "model\t\t: 85\n",
            "model name\t: Intel(R) Xeon(R) CPU @ 2.00GHz\n",
            "stepping\t: 3\n",
            "microcode\t: 0xffffffff\n",
            "cpu MHz\t\t: 2000.170\n",
            "cache size\t: 39424 KB\n",
            "physical id\t: 0\n",
            "siblings\t: 2\n",
            "core id\t\t: 0\n",
            "cpu cores\t: 1\n",
            "apicid\t\t: 1\n",
            "initial apicid\t: 1\n",
            "fpu\t\t: yes\n",
            "fpu_exception\t: yes\n",
            "cpuid level\t: 13\n",
            "wp\t\t: yes\n",
            "flags\t\t: fpu vme de pse tsc msr pae mce cx8 apic sep mtrr pge mca cmov pat pse36 clflush mmx fxsr sse sse2 ss ht syscall nx pdpe1gb rdtscp lm constant_tsc rep_good nopl xtopology nonstop_tsc cpuid tsc_known_freq pni pclmulqdq ssse3 fma cx16 pcid sse4_1 sse4_2 x2apic movbe popcnt aes xsave avx f16c rdrand hypervisor lahf_lm abm 3dnowprefetch invpcid_single ssbd ibrs ibpb stibp fsgsbase tsc_adjust bmi1 hle avx2 smep bmi2 erms invpcid rtm mpx avx512f avx512dq rdseed adx smap clflushopt clwb avx512cd avx512bw avx512vl xsaveopt xsavec xgetbv1 xsaves arat md_clear arch_capabilities\n",
            "bugs\t\t: cpu_meltdown spectre_v1 spectre_v2 spec_store_bypass l1tf mds swapgs taa mmio_stale_data retbleed\n",
            "bogomips\t: 4000.34\n",
            "clflush size\t: 64\n",
            "cache_alignment\t: 64\n",
            "address sizes\t: 46 bits physical, 48 bits virtual\n",
            "power management:\n",
            "\n"
          ]
        }
      ]
    },
    {
      "cell_type": "code",
      "source": [
        "import os\n",
        "num_cores = min(os.cpu_count(), 2)\n",
        "print(num_cores)"
      ],
      "metadata": {
        "colab": {
          "base_uri": "https://localhost:8080/"
        },
        "id": "pvmd8gdqqadV",
        "outputId": "8d4ad5be-9dde-417c-86f2-b8e5c02eab95"
      },
      "execution_count": 15,
      "outputs": [
        {
          "output_type": "stream",
          "name": "stdout",
          "text": [
            "2\n"
          ]
        }
      ]
    },
    {
      "cell_type": "markdown",
      "source": [
        "Let's see which GPU we are using (probably a Tesla T4):"
      ],
      "metadata": {
        "id": "boWe_CxtT_NO"
      }
    },
    {
      "cell_type": "code",
      "source": [
        "!nvidia-smi"
      ],
      "metadata": {
        "colab": {
          "base_uri": "https://localhost:8080/"
        },
        "id": "8yR2en5xCqsO",
        "outputId": "c8ba4ccd-73c1-4604-e98a-5a9654b6ad30"
      },
      "execution_count": 16,
      "outputs": [
        {
          "output_type": "stream",
          "name": "stdout",
          "text": [
            "Tue Jan 24 03:06:36 2023       \n",
            "+-----------------------------------------------------------------------------+\n",
            "| NVIDIA-SMI 460.32.03    Driver Version: 460.32.03    CUDA Version: 11.2     |\n",
            "|-------------------------------+----------------------+----------------------+\n",
            "| GPU  Name        Persistence-M| Bus-Id        Disp.A | Volatile Uncorr. ECC |\n",
            "| Fan  Temp  Perf  Pwr:Usage/Cap|         Memory-Usage | GPU-Util  Compute M. |\n",
            "|                               |                      |               MIG M. |\n",
            "|===============================+======================+======================|\n",
            "|   0  Tesla T4            Off  | 00000000:00:04.0 Off |                    0 |\n",
            "| N/A   69C    P0    30W /  70W |   1086MiB / 15109MiB |      0%      Default |\n",
            "|                               |                      |                  N/A |\n",
            "+-------------------------------+----------------------+----------------------+\n",
            "                                                                               \n",
            "+-----------------------------------------------------------------------------+\n",
            "| Processes:                                                                  |\n",
            "|  GPU   GI   CI        PID   Type   Process name                  GPU Memory |\n",
            "|        ID   ID                                                   Usage      |\n",
            "|=============================================================================|\n",
            "+-----------------------------------------------------------------------------+\n"
          ]
        }
      ]
    },
    {
      "cell_type": "markdown",
      "source": [
        "# Data Preparation"
      ],
      "metadata": {
        "id": "wGufTwtPso3h"
      }
    },
    {
      "cell_type": "code",
      "execution_count": 17,
      "metadata": {
        "id": "bH3SrMfHBejx"
      },
      "outputs": [],
      "source": [
        "import torch\n",
        "import torch.nn as nn\n",
        "import torch.nn.functional as F\n",
        "import torch.optim as optim\n",
        "from torchvision import datasets, transforms\n",
        "from torch.optim.lr_scheduler import StepLR"
      ]
    },
    {
      "cell_type": "markdown",
      "source": [
        "We want to use a GPU when one is available:"
      ],
      "metadata": {
        "id": "OOKVq098sZne"
      }
    },
    {
      "cell_type": "code",
      "source": [
        "use_cuda = torch.cuda.is_available()\n",
        "print(use_cuda)"
      ],
      "metadata": {
        "colab": {
          "base_uri": "https://localhost:8080/"
        },
        "id": "Nk3pkXNxCF5F",
        "outputId": "ce4000e8-3719-4448-ccea-339ab02f441f"
      },
      "execution_count": 18,
      "outputs": [
        {
          "output_type": "stream",
          "name": "stdout",
          "text": [
            "True\n"
          ]
        }
      ]
    },
    {
      "cell_type": "code",
      "source": [
        "torch.manual_seed(42)\n",
        "device = torch.device(\"cuda\") if use_cuda else torch.device(\"cpu\")\n",
        "\n",
        "train_kwargs = {'batch_size': 64}\n",
        "test_kwargs  = {'batch_size': 1000}\n",
        "if use_cuda:\n",
        "    cuda_kwargs = {'num_workers': num_cores, 'pin_memory': True, 'shuffle': True}\n",
        "    train_kwargs.update(cuda_kwargs)\n",
        "    test_kwargs.update(cuda_kwargs)"
      ],
      "metadata": {
        "id": "TVoXo2d6CVwC"
      },
      "execution_count": 19,
      "outputs": []
    },
    {
      "cell_type": "code",
      "source": [
        "transform=transforms.Compose([\n",
        "    transforms.ToTensor(),\n",
        "    transforms.Normalize((0.1307,), (0.3081,))])\n",
        "dataset1 = datasets.MNIST('/tmp', train=True, download=True,\n",
        "                       transform=transform)\n",
        "dataset2 = datasets.MNIST('/tmp', train=False,\n",
        "                       transform=transform)\n",
        "train_loader = torch.utils.data.DataLoader(dataset1, **train_kwargs)\n",
        "test_loader  = torch.utils.data.DataLoader(dataset2, **test_kwargs)"
      ],
      "metadata": {
        "id": "NgIFFS1TJp-O"
      },
      "execution_count": 27,
      "outputs": []
    },
    {
      "cell_type": "markdown",
      "source": [
        "# Model Definition"
      ],
      "metadata": {
        "id": "NxvDfF0Ps9uZ"
      }
    },
    {
      "cell_type": "markdown",
      "source": [
        "Create a Python class called Net that derives from the nn.Module of PyTorch. The \\_\\_init__() method defines the network layers and regularization method while the forward method describes the forward pass."
      ],
      "metadata": {
        "id": "SzBNqmv3M7o3"
      }
    },
    {
      "cell_type": "code",
      "source": [
        "class Net(nn.Module):\n",
        "    def __init__(self):\n",
        "        super(Net, self).__init__()\n",
        "        self.conv1 = nn.Conv2d(in_channels=1,\n",
        "                               out_channels=32,\n",
        "                               kernel_size=3,\n",
        "                               stride=1)\n",
        "        self.conv2 = nn.Conv2d(in_channels=32,\n",
        "                               out_channels=64,\n",
        "                               kernel_size=3,\n",
        "                               stride=1)\n",
        "        self.dropout1 = nn.Dropout(0.25)\n",
        "        self.dropout2 = nn.Dropout(0.5)\n",
        "        self.fc1 = nn.Linear(in_features=9216,\n",
        "                             out_features=128)\n",
        "        self.fc2 = nn.Linear(in_features=128,\n",
        "                             out_features=10)\n",
        "\n",
        "    def forward(self, x):\n",
        "        x = self.conv1(x)\n",
        "        x = F.relu(x)\n",
        "        x = self.conv2(x)\n",
        "        x = F.relu(x)\n",
        "        x = F.max_pool2d(x, 2)\n",
        "        x = self.dropout1(x)\n",
        "        x = torch.flatten(x, 1)\n",
        "        x = self.fc1(x)\n",
        "        x = F.relu(x)\n",
        "        x = self.dropout2(x)\n",
        "        x = self.fc2(x)\n",
        "        output = F.log_softmax(x, dim=1)\n",
        "        return output"
      ],
      "metadata": {
        "id": "HYNJjPkeB4Rj"
      },
      "execution_count": 21,
      "outputs": []
    },
    {
      "cell_type": "markdown",
      "source": [
        "Instantiate the network and move it to the device (which is a GPU when available). Create the optimizer."
      ],
      "metadata": {
        "id": "QVGbz36OuS8O"
      }
    },
    {
      "cell_type": "code",
      "source": [
        "model = Net().to(device)\n",
        "optimizer = optim.Adadelta(model.parameters(), lr=1.0)"
      ],
      "metadata": {
        "id": "tvkGwJD_JGEY"
      },
      "execution_count": 22,
      "outputs": []
    },
    {
      "cell_type": "code",
      "source": [
        "from torchsummary import summary\n",
        "summary(model, input_size=(1, 28, 28))"
      ],
      "metadata": {
        "colab": {
          "base_uri": "https://localhost:8080/"
        },
        "id": "kTfbe4QKRYLu",
        "outputId": "5faa4abb-18d5-4f9b-8f45-4ac0e7c403b9"
      },
      "execution_count": 23,
      "outputs": [
        {
          "output_type": "stream",
          "name": "stdout",
          "text": [
            "----------------------------------------------------------------\n",
            "        Layer (type)               Output Shape         Param #\n",
            "================================================================\n",
            "            Conv2d-1           [-1, 32, 26, 26]             320\n",
            "            Conv2d-2           [-1, 64, 24, 24]          18,496\n",
            "           Dropout-3           [-1, 64, 12, 12]               0\n",
            "            Linear-4                  [-1, 128]       1,179,776\n",
            "           Dropout-5                  [-1, 128]               0\n",
            "            Linear-6                   [-1, 10]           1,290\n",
            "================================================================\n",
            "Total params: 1,199,882\n",
            "Trainable params: 1,199,882\n",
            "Non-trainable params: 0\n",
            "----------------------------------------------------------------\n",
            "Input size (MB): 0.00\n",
            "Forward/backward pass size (MB): 0.52\n",
            "Params size (MB): 4.58\n",
            "Estimated Total Size (MB): 5.10\n",
            "----------------------------------------------------------------\n"
          ]
        }
      ]
    },
    {
      "cell_type": "markdown",
      "source": [
        "# Train and Test Methods"
      ],
      "metadata": {
        "id": "KYR03y9dvDEO"
      }
    },
    {
      "cell_type": "code",
      "source": [
        "def train(model, device, train_loader, optimizer, epoch):\n",
        "    model.train() # sets the model in training mode (i.e., dropout enabled)\n",
        "    for batch_idx, (data, target) in enumerate(train_loader):\n",
        "        data, target = data.to(device), target.to(device)\n",
        "        optimizer.zero_grad()\n",
        "        output = model(data)\n",
        "        loss = F.nll_loss(output, target)\n",
        "        loss.backward()\n",
        "        optimizer.step()\n",
        "        if batch_idx % 100 == 0:\n",
        "            print('Train Epoch: {} [{}/{} ({:.0f}%)]\\tLoss: {:.6f}'.format(\n",
        "                epoch, batch_idx * len(data), len(train_loader.dataset),\n",
        "                100. * batch_idx / len(train_loader), loss.item()))"
      ],
      "metadata": {
        "id": "_PrPJRlsCCO5"
      },
      "execution_count": 24,
      "outputs": []
    },
    {
      "cell_type": "code",
      "source": [
        "def test(model, device, test_loader):\n",
        "    model.eval() # sets the model in evaluation mode (i.e., dropout disabled)\n",
        "    test_loss = 0\n",
        "    correct = 0\n",
        "    with torch.no_grad():\n",
        "        for data, target in test_loader:\n",
        "            data, target = data.to(device), target.to(device)\n",
        "            output = model(data)\n",
        "            test_loss += F.nll_loss(output, target, reduction='sum').item()  # sum up batch loss\n",
        "            pred = output.argmax(dim=1, keepdim=True)  # get the index of the max log-probability\n",
        "            correct += pred.eq(target.view_as(pred)).sum().item()\n",
        "\n",
        "    test_loss /= len(test_loader.dataset)\n",
        "\n",
        "    print('\\nTest set: Average loss: {:.4f}, Accuracy: {}/{} ({:.0f}%)\\n'.format(\n",
        "        test_loss, correct, len(test_loader.dataset),\n",
        "        100. * correct / len(test_loader.dataset)))"
      ],
      "metadata": {
        "id": "bns0Q8O-CFVM"
      },
      "execution_count": 25,
      "outputs": []
    },
    {
      "cell_type": "markdown",
      "source": [
        "Train for some number of epochs while reporting the accuracy on the test set periodically:"
      ],
      "metadata": {
        "id": "2Zxo7USTvKMv"
      }
    },
    {
      "cell_type": "code",
      "source": [
        "epochs = 5\n",
        "scheduler = StepLR(optimizer, step_size=1, gamma=0.7)\n",
        "for epoch in range(1, epochs + 1):\n",
        "    train(model, device, train_loader, optimizer, epoch)\n",
        "    test(model, device, test_loader)\n",
        "    scheduler.step()"
      ],
      "metadata": {
        "colab": {
          "base_uri": "https://localhost:8080/"
        },
        "id": "Yl8Lcz1RJCk9",
        "outputId": "1362d1d0-265b-4144-f140-92300647111e"
      },
      "execution_count": 26,
      "outputs": [
        {
          "output_type": "stream",
          "name": "stdout",
          "text": [
            "Train Epoch: 1 [0/60000 (0%)]\tLoss: 2.302556\n",
            "Train Epoch: 1 [6400/60000 (11%)]\tLoss: 0.421551\n",
            "Train Epoch: 1 [12800/60000 (21%)]\tLoss: 0.371526\n",
            "Train Epoch: 1 [19200/60000 (32%)]\tLoss: 0.269113\n",
            "Train Epoch: 1 [25600/60000 (43%)]\tLoss: 0.106913\n",
            "Train Epoch: 1 [32000/60000 (53%)]\tLoss: 0.071669\n",
            "Train Epoch: 1 [38400/60000 (64%)]\tLoss: 0.214437\n",
            "Train Epoch: 1 [44800/60000 (75%)]\tLoss: 0.072366\n",
            "Train Epoch: 1 [51200/60000 (85%)]\tLoss: 0.108041\n",
            "Train Epoch: 1 [57600/60000 (96%)]\tLoss: 0.084091\n",
            "\n",
            "Test set: Average loss: 0.0511, Accuracy: 9824/10000 (98%)\n",
            "\n",
            "Train Epoch: 2 [0/60000 (0%)]\tLoss: 0.085912\n",
            "Train Epoch: 2 [6400/60000 (11%)]\tLoss: 0.027869\n",
            "Train Epoch: 2 [12800/60000 (21%)]\tLoss: 0.069379\n",
            "Train Epoch: 2 [19200/60000 (32%)]\tLoss: 0.108481\n",
            "Train Epoch: 2 [25600/60000 (43%)]\tLoss: 0.045319\n",
            "Train Epoch: 2 [32000/60000 (53%)]\tLoss: 0.015593\n",
            "Train Epoch: 2 [38400/60000 (64%)]\tLoss: 0.098604\n",
            "Train Epoch: 2 [44800/60000 (75%)]\tLoss: 0.012061\n",
            "Train Epoch: 2 [51200/60000 (85%)]\tLoss: 0.030015\n",
            "Train Epoch: 2 [57600/60000 (96%)]\tLoss: 0.087343\n",
            "\n",
            "Test set: Average loss: 0.0469, Accuracy: 9857/10000 (99%)\n",
            "\n",
            "Train Epoch: 3 [0/60000 (0%)]\tLoss: 0.120687\n",
            "Train Epoch: 3 [6400/60000 (11%)]\tLoss: 0.104749\n",
            "Train Epoch: 3 [12800/60000 (21%)]\tLoss: 0.010199\n",
            "Train Epoch: 3 [19200/60000 (32%)]\tLoss: 0.114655\n",
            "Train Epoch: 3 [25600/60000 (43%)]\tLoss: 0.004394\n",
            "Train Epoch: 3 [32000/60000 (53%)]\tLoss: 0.039725\n",
            "Train Epoch: 3 [38400/60000 (64%)]\tLoss: 0.030340\n",
            "Train Epoch: 3 [44800/60000 (75%)]\tLoss: 0.012101\n",
            "Train Epoch: 3 [51200/60000 (85%)]\tLoss: 0.024376\n",
            "Train Epoch: 3 [57600/60000 (96%)]\tLoss: 0.034709\n",
            "\n",
            "Test set: Average loss: 0.0316, Accuracy: 9901/10000 (99%)\n",
            "\n",
            "Train Epoch: 4 [0/60000 (0%)]\tLoss: 0.029209\n",
            "Train Epoch: 4 [6400/60000 (11%)]\tLoss: 0.002758\n",
            "Train Epoch: 4 [12800/60000 (21%)]\tLoss: 0.022016\n",
            "Train Epoch: 4 [19200/60000 (32%)]\tLoss: 0.008501\n",
            "Train Epoch: 4 [25600/60000 (43%)]\tLoss: 0.059798\n",
            "Train Epoch: 4 [32000/60000 (53%)]\tLoss: 0.199470\n",
            "Train Epoch: 4 [38400/60000 (64%)]\tLoss: 0.043956\n",
            "Train Epoch: 4 [44800/60000 (75%)]\tLoss: 0.000419\n",
            "Train Epoch: 4 [51200/60000 (85%)]\tLoss: 0.061222\n",
            "Train Epoch: 4 [57600/60000 (96%)]\tLoss: 0.046214\n",
            "\n",
            "Test set: Average loss: 0.0297, Accuracy: 9905/10000 (99%)\n",
            "\n",
            "Train Epoch: 5 [0/60000 (0%)]\tLoss: 0.016272\n",
            "Train Epoch: 5 [6400/60000 (11%)]\tLoss: 0.047659\n",
            "Train Epoch: 5 [12800/60000 (21%)]\tLoss: 0.007014\n",
            "Train Epoch: 5 [19200/60000 (32%)]\tLoss: 0.055207\n",
            "Train Epoch: 5 [25600/60000 (43%)]\tLoss: 0.032379\n",
            "Train Epoch: 5 [32000/60000 (53%)]\tLoss: 0.001300\n",
            "Train Epoch: 5 [38400/60000 (64%)]\tLoss: 0.055757\n",
            "Train Epoch: 5 [44800/60000 (75%)]\tLoss: 0.051857\n",
            "Train Epoch: 5 [51200/60000 (85%)]\tLoss: 0.013383\n",
            "Train Epoch: 5 [57600/60000 (96%)]\tLoss: 0.009230\n",
            "\n",
            "Test set: Average loss: 0.0286, Accuracy: 9914/10000 (99%)\n",
            "\n"
          ]
        }
      ]
    }
  ]
}